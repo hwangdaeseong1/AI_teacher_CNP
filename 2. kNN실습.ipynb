{
  "nbformat": 4,
  "nbformat_minor": 0,
  "metadata": {
    "colab": {
      "provenance": []
    },
    "kernelspec": {
      "name": "python3",
      "display_name": "Python 3"
    },
    "language_info": {
      "name": "python"
    }
  },
  "cells": [
    {
      "cell_type": "markdown",
      "source": [
        "1. 라이브러리 추가 및 데이터 로드"
      ],
      "metadata": {
        "id": "-iOBACo01SB3"
      }
    },
    {
      "cell_type": "code",
      "source": [
        "from sklearn import datasets\n",
        "irisData = datasets.load_iris()"
      ],
      "metadata": {
        "id": "bvNLSIFQ1Rpo"
      },
      "execution_count": 1,
      "outputs": []
    },
    {
      "cell_type": "markdown",
      "source": [
        "2. 독립변수와 종속변수 구분"
      ],
      "metadata": {
        "id": "kiqnmWSs1xXA"
      }
    },
    {
      "cell_type": "markdown",
      "source": [
        "![image.png](data:image/png;base64,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)"
      ],
      "metadata": {
        "id": "TeZ38dkX2GFM"
      }
    },
    {
      "cell_type": "code",
      "source": [
        "x_total = irisData.data\n",
        "y_total = irisData.target"
      ],
      "metadata": {
        "id": "piosVuZd11Yk"
      },
      "execution_count": 3,
      "outputs": []
    },
    {
      "cell_type": "markdown",
      "source": [
        "3. 훈련 데이터와 테스트 데이터 분할"
      ],
      "metadata": {
        "id": "2wx50DkN2N94"
      }
    },
    {
      "cell_type": "code",
      "source": [
        "from sklearn.model_selection import train_test_split # 모델의 교차검증\n",
        "# 일관된 난수를 생성하기 위하여 random state를 설정\n",
        "\n",
        "x_train, x_test, y_train, y_test = train_test_split(x_total, y_total, random_state=100)"
      ],
      "metadata": {
        "id": "E9L19OWd2T8f"
      },
      "execution_count": 4,
      "outputs": []
    },
    {
      "cell_type": "markdown",
      "source": [
        "4. kNN 라이브러리 추가, 학습"
      ],
      "metadata": {
        "id": "b2Br2l063GaR"
      }
    },
    {
      "cell_type": "code",
      "source": [
        "from sklearn.neighbors import KNeighborsClassifier\n",
        "\n",
        "#k-NN 분류분석 객체 생성\n",
        "knn = KNeighborsClassifier()\n",
        "\n",
        "#k-NN 분류분석 모형 학습\n",
        "knn.fit(x_train, y_train)"
      ],
      "metadata": {
        "colab": {
          "base_uri": "https://localhost:8080/",
          "height": 74
        },
        "id": "ZVmb068c3WfJ",
        "outputId": "caf3cad7-6b14-4cfe-f66b-1bf13dc125ed"
      },
      "execution_count": 5,
      "outputs": [
        {
          "output_type": "execute_result",
          "data": {
            "text/plain": [
              "KNeighborsClassifier()"
            ],
            "text/html": [
              "<style>#sk-container-id-1 {color: black;background-color: white;}#sk-container-id-1 pre{padding: 0;}#sk-container-id-1 div.sk-toggleable {background-color: white;}#sk-container-id-1 label.sk-toggleable__label {cursor: pointer;display: block;width: 100%;margin-bottom: 0;padding: 0.3em;box-sizing: border-box;text-align: center;}#sk-container-id-1 label.sk-toggleable__label-arrow:before {content: \"▸\";float: left;margin-right: 0.25em;color: #696969;}#sk-container-id-1 label.sk-toggleable__label-arrow:hover:before {color: black;}#sk-container-id-1 div.sk-estimator:hover label.sk-toggleable__label-arrow:before {color: black;}#sk-container-id-1 div.sk-toggleable__content {max-height: 0;max-width: 0;overflow: hidden;text-align: left;background-color: #f0f8ff;}#sk-container-id-1 div.sk-toggleable__content pre {margin: 0.2em;color: black;border-radius: 0.25em;background-color: #f0f8ff;}#sk-container-id-1 input.sk-toggleable__control:checked~div.sk-toggleable__content {max-height: 200px;max-width: 100%;overflow: auto;}#sk-container-id-1 input.sk-toggleable__control:checked~label.sk-toggleable__label-arrow:before {content: \"▾\";}#sk-container-id-1 div.sk-estimator input.sk-toggleable__control:checked~label.sk-toggleable__label {background-color: #d4ebff;}#sk-container-id-1 div.sk-label input.sk-toggleable__control:checked~label.sk-toggleable__label {background-color: #d4ebff;}#sk-container-id-1 input.sk-hidden--visually {border: 0;clip: rect(1px 1px 1px 1px);clip: rect(1px, 1px, 1px, 1px);height: 1px;margin: -1px;overflow: hidden;padding: 0;position: absolute;width: 1px;}#sk-container-id-1 div.sk-estimator {font-family: monospace;background-color: #f0f8ff;border: 1px dotted black;border-radius: 0.25em;box-sizing: border-box;margin-bottom: 0.5em;}#sk-container-id-1 div.sk-estimator:hover {background-color: #d4ebff;}#sk-container-id-1 div.sk-parallel-item::after {content: \"\";width: 100%;border-bottom: 1px solid gray;flex-grow: 1;}#sk-container-id-1 div.sk-label:hover label.sk-toggleable__label {background-color: #d4ebff;}#sk-container-id-1 div.sk-serial::before {content: \"\";position: absolute;border-left: 1px solid gray;box-sizing: border-box;top: 0;bottom: 0;left: 50%;z-index: 0;}#sk-container-id-1 div.sk-serial {display: flex;flex-direction: column;align-items: center;background-color: white;padding-right: 0.2em;padding-left: 0.2em;position: relative;}#sk-container-id-1 div.sk-item {position: relative;z-index: 1;}#sk-container-id-1 div.sk-parallel {display: flex;align-items: stretch;justify-content: center;background-color: white;position: relative;}#sk-container-id-1 div.sk-item::before, #sk-container-id-1 div.sk-parallel-item::before {content: \"\";position: absolute;border-left: 1px solid gray;box-sizing: border-box;top: 0;bottom: 0;left: 50%;z-index: -1;}#sk-container-id-1 div.sk-parallel-item {display: flex;flex-direction: column;z-index: 1;position: relative;background-color: white;}#sk-container-id-1 div.sk-parallel-item:first-child::after {align-self: flex-end;width: 50%;}#sk-container-id-1 div.sk-parallel-item:last-child::after {align-self: flex-start;width: 50%;}#sk-container-id-1 div.sk-parallel-item:only-child::after {width: 0;}#sk-container-id-1 div.sk-dashed-wrapped {border: 1px dashed gray;margin: 0 0.4em 0.5em 0.4em;box-sizing: border-box;padding-bottom: 0.4em;background-color: white;}#sk-container-id-1 div.sk-label label {font-family: monospace;font-weight: bold;display: inline-block;line-height: 1.2em;}#sk-container-id-1 div.sk-label-container {text-align: center;}#sk-container-id-1 div.sk-container {/* jupyter's `normalize.less` sets `[hidden] { display: none; }` but bootstrap.min.css set `[hidden] { display: none !important; }` so we also need the `!important` here to be able to override the default hidden behavior on the sphinx rendered scikit-learn.org. See: https://github.com/scikit-learn/scikit-learn/issues/21755 */display: inline-block !important;position: relative;}#sk-container-id-1 div.sk-text-repr-fallback {display: none;}</style><div id=\"sk-container-id-1\" class=\"sk-top-container\"><div class=\"sk-text-repr-fallback\"><pre>KNeighborsClassifier()</pre><b>In a Jupyter environment, please rerun this cell to show the HTML representation or trust the notebook. <br />On GitHub, the HTML representation is unable to render, please try loading this page with nbviewer.org.</b></div><div class=\"sk-container\" hidden><div class=\"sk-item\"><div class=\"sk-estimator sk-toggleable\"><input class=\"sk-toggleable__control sk-hidden--visually\" id=\"sk-estimator-id-1\" type=\"checkbox\" checked><label for=\"sk-estimator-id-1\" class=\"sk-toggleable__label sk-toggleable__label-arrow\">KNeighborsClassifier</label><div class=\"sk-toggleable__content\"><pre>KNeighborsClassifier()</pre></div></div></div></div></div>"
            ]
          },
          "metadata": {},
          "execution_count": 5
        }
      ]
    },
    {
      "cell_type": "markdown",
      "source": [
        "5. 예측, 성능 평가"
      ],
      "metadata": {
        "id": "xlOkHKG532CQ"
      }
    },
    {
      "cell_type": "code",
      "source": [
        "predictedClass = knn.predict(x_test)\n",
        "\n",
        "#모형의 정확도 파악\n",
        "print(\"훈련 집합의 정확도 : {0:.4f}\".format(knn.score(x_train, y_train)))\n",
        "print(\"테스트 집합의 정확도 : {0:.4f}\".format(knn.score(x_test, y_test)))"
      ],
      "metadata": {
        "colab": {
          "base_uri": "https://localhost:8080/"
        },
        "id": "yLToVvSg3-_y",
        "outputId": "10d5b4b2-a930-4636-afac-a3c75706ee85"
      },
      "execution_count": 7,
      "outputs": [
        {
          "output_type": "stream",
          "name": "stdout",
          "text": [
            "훈련 집합의 정확도 : 0.9821\n",
            "테스트 집합의 정확도 : 0.9737\n"
          ]
        }
      ]
    }
  ]
}